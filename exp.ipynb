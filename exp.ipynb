{
 "cells": [
  {
   "cell_type": "code",
   "execution_count": 2,
   "metadata": {},
   "outputs": [],
   "source": [
    "import re\n",
    "with open(\"./data/fifa2026.txt\") as f:\n",
    "    fifa = f.readlines()\n",
    "    fifa = [item.strip() for item in fifa if item != '\\n']\n",
    "    msgs = []\n",
    "    for i, text in enumerate(fifa):\n",
    "        match = re.search(r'\\[@([^\\s]+)', text)\n",
    "        rest, post = text.rsplit(sep=\"M]\")\n",
    "        if match and post:\n",
    "            msgs.append({\"user_id\":match.group(1), \"message\":post})\n",
    "        else:\n",
    "            print(f\"{i}: Not found\")"
   ]
  },
  {
   "cell_type": "code",
   "execution_count": 3,
   "metadata": {},
   "outputs": [
    {
     "data": {
      "text/plain": [
       "{'user_id': 'SoccerGuru22',\n",
       " 'message': '\"This is absolutely massive! Can\\'t wait to see how the USA pulls this off. Hopefully, they improve their stadium infrastructure!\"'}"
      ]
     },
     "execution_count": 3,
     "metadata": {},
     "output_type": "execute_result"
    }
   ],
   "source": [
    "msgs[0]"
   ]
  }
 ],
 "metadata": {
  "kernelspec": {
   "display_name": "lc1",
   "language": "python",
   "name": "python3"
  },
  "language_info": {
   "codemirror_mode": {
    "name": "ipython",
    "version": 3
   },
   "file_extension": ".py",
   "mimetype": "text/x-python",
   "name": "python",
   "nbconvert_exporter": "python",
   "pygments_lexer": "ipython3",
   "version": "3.12.0"
  }
 },
 "nbformat": 4,
 "nbformat_minor": 2
}
